{
  "nbformat": 4,
  "nbformat_minor": 0,
  "metadata": {
    "colab": {
      "name": "PRESENÇA EM AULAS: (04;05;06)",
      "provenance": [],
      "authorship_tag": "ABX9TyOTQlcFlNp6CpiZBvXnsb9W",
      "include_colab_link": true
    },
    "kernelspec": {
      "name": "python3",
      "display_name": "Python 3"
    }
  },
  "cells": [
    {
      "cell_type": "markdown",
      "metadata": {
        "id": "view-in-github",
        "colab_type": "text"
      },
      "source": [
        "<a href=\"https://colab.research.google.com/github/RegisMelgaco/AI/blob/master/PRESEN%C3%87A_EM_AULAS_(04%3B05%3B06).ipynb\" target=\"_parent\"><img src=\"https://colab.research.google.com/assets/colab-badge.svg\" alt=\"Open In Colab\"/></a>"
      ]
    },
    {
      "cell_type": "code",
      "metadata": {
        "id": "HNCtV7tVX2Mr",
        "colab_type": "code",
        "colab": {}
      },
      "source": [
        "import numpy as np\n",
        "import matplotlib.pyplot as plt\n",
        "from scipy.stats import norm"
      ],
      "execution_count": null,
      "outputs": []
    },
    {
      "cell_type": "markdown",
      "metadata": {
        "id": "YolQH92YYDd0",
        "colab_type": "text"
      },
      "source": [
        "# Questão 1\n"
      ]
    },
    {
      "cell_type": "code",
      "metadata": {
        "id": "DZ1glUiFYB8K",
        "colab_type": "code",
        "colab": {}
      },
      "source": [
        "def area(step, y_axis):\n",
        "    return sum([step*y for y in y_axis])\n",
        "\n",
        "mean = 1010\n",
        "standard_deviation = 10\n",
        "step = .001 # quanto menor o passo maior a resolução do calculo.\n",
        "\n",
        "x_axis = np.arange(0, 1000, step)\n",
        "y_axis = norm.pdf(x_axis, mean, standard_deviation)\n",
        "\n",
        "print(area(step, y_axis)) # A área é iqual número de produtos"
      ],
      "execution_count": null,
      "outputs": []
    },
    {
      "cell_type": "markdown",
      "metadata": {
        "id": "Q34jhucUYQ5O",
        "colab_type": "text"
      },
      "source": [
        "# Questão 2"
      ]
    },
    {
      "cell_type": "code",
      "metadata": {
        "id": "i7Eg9y0EYPr8",
        "colab_type": "code",
        "colab": {}
      },
      "source": [
        "mean = 1016.40\n",
        "standard_deviation = 10\n",
        "step = .001 # quanto menor o passo maior a resolução do calculo.\n",
        "\n",
        "x_axis = np.arange(0, 1000, step)\n",
        "y_axis = norm.pdf(x_axis, mean, standard_deviation)\n",
        "\n",
        "print(area(step, y_axis)) # A área é iqual número de produtos"
      ],
      "execution_count": null,
      "outputs": []
    },
    {
      "cell_type": "markdown",
      "metadata": {
        "id": "kYFiERhUYZgE",
        "colab_type": "text"
      },
      "source": [
        "# Questão 3"
      ]
    }
  ]
}