{
  "nbformat": 4,
  "nbformat_minor": 0,
  "metadata": {
    "colab": {
      "name": "PRESENÇA EM AULAS: (04;05;06)",
      "provenance": [],
      "authorship_tag": "ABX9TyPIyRNd1np0ZmDuhc8JeiuV",
      "include_colab_link": true
    },
    "kernelspec": {
      "name": "python3",
      "display_name": "Python 3"
    }
  },
  "cells": [
    {
      "cell_type": "markdown",
      "metadata": {
        "id": "view-in-github",
        "colab_type": "text"
      },
      "source": [
        "<a href=\"https://colab.research.google.com/github/RegisMelgaco/AI/blob/master/PRESEN%C3%87A_EM_AULAS_(04%3B05%3B06).ipynb\" target=\"_parent\"><img src=\"https://colab.research.google.com/assets/colab-badge.svg\" alt=\"Open In Colab\"/></a>"
      ]
    },
    {
      "cell_type": "code",
      "metadata": {
        "id": "HNCtV7tVX2Mr",
        "colab_type": "code",
        "colab": {}
      },
      "source": [
        "import numpy as np\n",
        "import matplotlib.pyplot as plt\n",
        "from scipy.stats import norm"
      ],
      "execution_count": 1,
      "outputs": []
    },
    {
      "cell_type": "markdown",
      "metadata": {
        "id": "YolQH92YYDd0",
        "colab_type": "text"
      },
      "source": [
        "# Questão 1\n"
      ]
    },
    {
      "cell_type": "code",
      "metadata": {
        "id": "DZ1glUiFYB8K",
        "colab_type": "code",
        "colab": {
          "base_uri": "https://localhost:8080/",
          "height": 34
        },
        "outputId": "efa1b299-a14c-451e-a1ba-89a5802b464c"
      },
      "source": [
        "def area(step, y_axis):\n",
        "    return sum([step*y for y in y_axis])\n",
        "\n",
        "mean = 1010\n",
        "standard_deviation = 10\n",
        "step = .001 # quanto menor o passo maior a resolução do calculo.\n",
        "\n",
        "x_axis = np.arange(0, 1000, step)\n",
        "y_axis = norm.pdf(x_axis, mean, standard_deviation)\n",
        "\n",
        "print(area(step, y_axis)) # A área é iqual número de produtos"
      ],
      "execution_count": 2,
      "outputs": [
        {
          "output_type": "stream",
          "text": [
            "0.1586431555968738\n"
          ],
          "name": "stdout"
        }
      ]
    },
    {
      "cell_type": "markdown",
      "metadata": {
        "id": "Q34jhucUYQ5O",
        "colab_type": "text"
      },
      "source": [
        "# Questão 2"
      ]
    },
    {
      "cell_type": "code",
      "metadata": {
        "id": "i7Eg9y0EYPr8",
        "colab_type": "code",
        "colab": {
          "base_uri": "https://localhost:8080/",
          "height": 34
        },
        "outputId": "2a6e1b32-3db2-4ac4-cff6-858d52e5fd74"
      },
      "source": [
        "mean = 1016.40\n",
        "standard_deviation = 10\n",
        "step = .001 # quanto menor o passo maior a resolução do calculo.\n",
        "\n",
        "x_axis = np.arange(0, 1000, step)\n",
        "y_axis = norm.pdf(x_axis, mean, standard_deviation)\n",
        "\n",
        "p = area(step, y_axis) # A área é iqual número de produtos\n",
        "print(p)"
      ],
      "execution_count": 3,
      "outputs": [
        {
          "output_type": "stream",
          "text": [
            "0.05049738556141806\n"
          ],
          "name": "stdout"
        }
      ]
    },
    {
      "cell_type": "markdown",
      "metadata": {
        "id": "kYFiERhUYZgE",
        "colab_type": "text"
      },
      "source": [
        "# Questão 3"
      ]
    },
    {
      "cell_type": "code",
      "metadata": {
        "id": "b89x5ZGKbAjG",
        "colab_type": "code",
        "colab": {
          "base_uri": "https://localhost:8080/",
          "height": 85
        },
        "outputId": "861ca852-13de-4224-8855-001c896bfe63"
      },
      "source": [
        "from typing import List\n",
        "from math import factorial\n",
        "from functools import reduce\n",
        "\n",
        "def permutations(word_length: int, repited_letters_count: List[int]):\n",
        "  return factorial(word_length) / reduce(lambda acc, x: acc * x,([factorial(count) for count in repited_letters_count]))\n",
        "\n",
        "p = .05\n",
        "q = 1 - p\n",
        "\n",
        "print(\n",
        "    p * (q * 9)\n",
        ")\n",
        "print(\n",
        "    (p ** 4) * (q * 6) * permutations(9, [3, 6])\n",
        ")\n",
        "print(\n",
        "    q ** 10\n",
        ")\n",
        "print(\n",
        "    1 - (q ** 10)\n",
        ")"
      ],
      "execution_count": 9,
      "outputs": [
        {
          "output_type": "stream",
          "text": [
            "0.4275\n",
            "0.0029925000000000004\n",
            "0.5987369392383787\n",
            "0.4012630607616213\n"
          ],
          "name": "stdout"
        }
      ]
    }
  ]
}