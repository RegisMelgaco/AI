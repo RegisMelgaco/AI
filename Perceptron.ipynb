{
 "cells": [
  {
   "cell_type": "markdown",
   "metadata": {},
   "source": [
    "# Portas de Limiar\n",
    "\n",
    "É a soma ponderada de um certo numero de entradas (que podem ser 0 ou 1) ponderadas a certo valor de limiar, caso seja menor retorna zero, se não retorna 1.\n",
    "\n",
    "## P. L. Linear\n",
    "\n",
    "Porta limiar que faz o somatório de cada entrada multiplcada a seu respectivo peso, caso seja menor retorna zero, se não retorna 1.\n",
    "\n",
    "## P. L. Quadratica\n",
    "\n",
    "Tem o mesmo funcionamento da PLL, com o acrescimo de pesos para todas as combinações possiveis de duas entradas.\n"
   ]
  },
  {
   "cell_type": "markdown",
   "metadata": {},
   "source": [
    "# Perceptron Simples"
   ]
  },
  {
   "cell_type": "code",
   "execution_count": 1,
   "metadata": {},
   "outputs": [],
   "source": [
    "from random import randint\n",
    "from functools import reduce\n",
    "\n",
    "\n",
    "\n",
    "class SimplePerceptron:\n",
    "\n",
    "    def __init__ (self, input_size, learning_rate, initial_max_weight, initial_min_weight):\n",
    "        self.weights = [randint (initial_min_weight, initial_max_weight) for i in range(input_size + 1)]\n",
    "        self.input_size = input_size\n",
    "        self.learning_rate = learning_rate\n",
    "\n",
    "    def limiar_function (self, input):\n",
    "        acc = 0\n",
    "        for (x, w) in zip(input, self.weights):\n",
    "            acc += x * w\n",
    "        return acc\n",
    "\n",
    "    def train (self, inputs, labels):\n",
    "        loops_since_last_error = 0\n",
    "        i = 0\n",
    "\n",
    "        while True:\n",
    "            error = labels[i].numerator - self.predict(inputs[i]).numerator\n",
    "\n",
    "            if error != 0:\n",
    "                loops_since_last_error = 0\n",
    "                for (j, coordenate) in enumerate(inputs[i]):\n",
    "                    self.weights[j] += self.learning_rate * error * coordenate\n",
    "            else:\n",
    "                loops_since_last_error += 1\n",
    "                if loops_since_last_error > len(labels):\n",
    "                    break\n",
    "            \n",
    "            if i < len(labels) - 1:\n",
    "                i += 1\n",
    "            else:\n",
    "                i = 0\n",
    "\n",
    "    def predict (self, input):\n",
    "        return self.limiar_function(input) >= 0\n",
    "    "
   ]
  },
  {
   "cell_type": "code",
   "execution_count": 2,
   "metadata": {},
   "outputs": [
    {
     "name": "stdout",
     "output_type": "stream",
     "text": [
      "==========================\n",
      "[0, 0] =>  False\n",
      "[0, 1] =>  False\n",
      "[1, 0] =>  False\n",
      "[1, 1] =>  True\n",
      "==========================\n",
      "[0, 0] =>  False\n",
      "[0, 1] =>  True\n",
      "[1, 0] =>  True\n",
      "[1, 1] =>  True\n",
      "==========================\n",
      "[0, 0] =>  False\n",
      "[0, 1] =>  True\n",
      "[1, 0] =>  False\n",
      "[1, 1] =>  True\n",
      "==========================\n"
     ]
    }
   ],
   "source": [
    "sp = SimplePerceptron(2, 0.5, 2, -2)\n",
    "# sp.weights = [1, 1, 1.5] # pesos para a AND\n",
    "\n",
    "possibilities = [[x, y] for x in range(2) for y in range(2)]\n",
    "expanded_p = [p + [-1] for p in possibilities]\n",
    "\n",
    "\n",
    "print(\"==========================\")\n",
    "\n",
    "sp.train(expanded_p, [False, False, False, True])\n",
    "\n",
    "for (ep, p) in zip(expanded_p, possibilities): \n",
    "    print(p, \"=> \", sp.predict (ep))\n",
    "    \n",
    "print(\"==========================\")\n",
    "    \n",
    "sp.train(expanded_p, [False, True, True, True])\n",
    "\n",
    "for (ep, p) in zip(expanded_p, possibilities): \n",
    "    print(p, \"=> \", sp.predict (ep))\n",
    "    \n",
    "print(\"==========================\")\n",
    "    \n",
    "sp.train(expanded_p, [False, True, False, True])\n",
    "\n",
    "for (ep, p) in zip(expanded_p, possibilities): \n",
    "    print(p, \"=> \", sp.predict (ep))\n",
    "    \n",
    "print(\"==========================\")"
   ]
  }
 ],
 "metadata": {
  "kernelspec": {
   "display_name": "Python 3",
   "language": "python",
   "name": "python3"
  },
  "language_info": {
   "codemirror_mode": {
    "name": "ipython",
    "version": 3
   },
   "file_extension": ".py",
   "mimetype": "text/x-python",
   "name": "python",
   "nbconvert_exporter": "python",
   "pygments_lexer": "ipython3",
   "version": "3.7.0"
  }
 },
 "nbformat": 4,
 "nbformat_minor": 2
}
